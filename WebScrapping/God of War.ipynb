{
 "cells": [
  {
   "cell_type": "code",
   "execution_count": 1,
   "metadata": {},
   "outputs": [],
   "source": [
    "from selenium import webdriver\n",
    "from selenium.webdriver.support.ui import Select\n",
    "import time, requests\n",
    "import mysql.connector as mysql"
   ]
  },
  {
   "cell_type": "code",
   "execution_count": 195,
   "metadata": {},
   "outputs": [],
   "source": [
    "mydb = mysql.connect(\n",
    "  host=\"l6glqt8gsx37y4hs.cbetxkdyhwsb.us-east-1.rds.amazonaws.com\",\n",
    "  user=\"vhaithj2ezjri3a5\",\n",
    "  password=\"htf06l6xp0gsgoei\",\n",
    "  database = \"bovesv3pjmkwzex5\"\n",
    ")"
   ]
  },
  {
   "cell_type": "code",
   "execution_count": 3,
   "metadata": {},
   "outputs": [
    {
     "name": "stderr",
     "output_type": "stream",
     "text": [
      "C:\\Users\\BoraBestz\\AppData\\Local\\Temp\\ipykernel_15504\\922196573.py:1: DeprecationWarning: executable_path has been deprecated, please pass in a Service object\n",
      "  driver=webdriver.Chrome(executable_path='D:\\chromedriver.exe')\n"
     ]
    }
   ],
   "source": [
    "driver=webdriver.Chrome(executable_path='D:\\chromedriver.exe')\n",
    "driver.maximize_window()"
   ]
  },
  {
   "cell_type": "markdown",
   "metadata": {},
   "source": [
    "God of War Website \"Gamivo\""
   ]
  },
  {
   "cell_type": "code",
   "execution_count": 197,
   "metadata": {},
   "outputs": [],
   "source": [
    "url = 'https://www.gamivo.com/product/god-of-war-steam'\n",
    "driver.get(url)\n"
   ]
  },
  {
   "cell_type": "code",
   "execution_count": 198,
   "metadata": {},
   "outputs": [
    {
     "name": "stderr",
     "output_type": "stream",
     "text": [
      "C:\\Users\\BoraBestz\\AppData\\Local\\Temp\\ipykernel_14348\\3684225706.py:1: DeprecationWarning: find_element_by_* commands are deprecated. Please use find_element() instead\n",
      "  findPrice = driver.find_element_by_xpath('//*[@id=\"product\"]/div[1]/div[3]/div/div[2]/app-product-top/div/div[3]/div[1]/div[1]/div[2]').text\n"
     ]
    },
    {
     "data": {
      "text/plain": [
       "38.99"
      ]
     },
     "execution_count": 198,
     "metadata": {},
     "output_type": "execute_result"
    }
   ],
   "source": [
    "findPrice = driver.find_element_by_xpath('//*[@id=\"product\"]/div[1]/div[3]/div/div[2]/app-product-top/div/div[3]/div[1]/div[1]/div[2]').text\n",
    "price = float(findPrice.strip(\"€ \"))\n",
    "price"
   ]
  },
  {
   "cell_type": "code",
   "execution_count": 199,
   "metadata": {},
   "outputs": [
    {
     "data": {
      "text/plain": [
       "37.452764"
      ]
     },
     "execution_count": 199,
     "metadata": {},
     "output_type": "execute_result"
    }
   ],
   "source": [
    "url = \"https://free.currconv.com/api/v7/convert?q=EUR_THB&compact=ultra&apiKey=91c655f35ea7b07cb4f1\"\n",
    "response = requests.request('GET', url)\n",
    "currency = response.text.split(\":\")\n",
    "rateEur = float(currency[1].strip(\"}\"))\n",
    "rateEur\n",
    "#rateEur =  37.62\n",
    "\n",
    "\n",
    "\n",
    "\n"
   ]
  },
  {
   "cell_type": "code",
   "execution_count": 200,
   "metadata": {},
   "outputs": [
    {
     "data": {
      "text/plain": [
       "1460.28"
      ]
     },
     "execution_count": 200,
     "metadata": {},
     "output_type": "execute_result"
    }
   ],
   "source": [
    "gamivo = round(price * rateEur,2)\n",
    "gamivo"
   ]
  },
  {
   "cell_type": "code",
   "execution_count": 201,
   "metadata": {},
   "outputs": [],
   "source": [
    "godOfWar = {'Gamivo': gamivo}"
   ]
  },
  {
   "cell_type": "markdown",
   "metadata": {},
   "source": [
    "God of War Website \"GameSrig\""
   ]
  },
  {
   "cell_type": "code",
   "execution_count": 202,
   "metadata": {},
   "outputs": [],
   "source": [
    "url = 'https://www.gamesrig.com/god-of-war-steam-key'\n",
    "driver.get(url)"
   ]
  },
  {
   "cell_type": "code",
   "execution_count": 203,
   "metadata": {},
   "outputs": [
    {
     "name": "stderr",
     "output_type": "stream",
     "text": [
      "C:\\Users\\BoraBestz\\AppData\\Local\\Temp\\ipykernel_14348\\2178116923.py:1: DeprecationWarning: find_element_by_* commands are deprecated. Please use find_element() instead\n",
      "  findPrice = driver.find_element_by_xpath('//*[@id=\"blockB\"]/div/div/div[2]/div[2]').text\n"
     ]
    },
    {
     "data": {
      "text/plain": [
       "1249.0"
      ]
     },
     "execution_count": 203,
     "metadata": {},
     "output_type": "execute_result"
    }
   ],
   "source": [
    "findPrice = driver.find_element_by_xpath('//*[@id=\"blockB\"]/div/div/div[2]/div[2]').text\n",
    "gameSrig = float(findPrice.replace(\"฿\",\"\"))\n",
    "gameSrig"
   ]
  },
  {
   "cell_type": "code",
   "execution_count": 204,
   "metadata": {},
   "outputs": [],
   "source": [
    "godOfWar.update({'GameSrig': gameSrig})"
   ]
  },
  {
   "cell_type": "markdown",
   "metadata": {},
   "source": [
    "God of War Website \"HRK\""
   ]
  },
  {
   "cell_type": "code",
   "execution_count": 205,
   "metadata": {},
   "outputs": [],
   "source": [
    "url = 'https://www.hrkgame.com/en/games/product/god-of-war'\n",
    "driver.get(url)"
   ]
  },
  {
   "cell_type": "code",
   "execution_count": 206,
   "metadata": {},
   "outputs": [
    {
     "name": "stderr",
     "output_type": "stream",
     "text": [
      "C:\\Users\\BoraBestz\\AppData\\Local\\Temp\\ipykernel_14348\\1529041152.py:1: DeprecationWarning: find_element_by_* commands are deprecated. Please use find_element() instead\n",
      "  findPrice = driver.find_element_by_xpath('//*[@id=\"store_form\"]/div/div[1]/div/div[2]/div[2]')\n"
     ]
    },
    {
     "data": {
      "text/plain": [
       "37.69"
      ]
     },
     "execution_count": 206,
     "metadata": {},
     "output_type": "execute_result"
    }
   ],
   "source": [
    "findPrice = driver.find_element_by_xpath('//*[@id=\"store_form\"]/div/div[1]/div/div[2]/div[2]')\n",
    "price = float(findPrice.text.strip(\"$\"))\n",
    "price\n"
   ]
  },
  {
   "cell_type": "code",
   "execution_count": 207,
   "metadata": {},
   "outputs": [
    {
     "data": {
      "text/plain": [
       "33.224018"
      ]
     },
     "execution_count": 207,
     "metadata": {},
     "output_type": "execute_result"
    }
   ],
   "source": [
    "url = \"https://free.currconv.com/api/v7/convert?q=USD_THB&compact=ultra&apiKey=91c655f35ea7b07cb4f1\"\n",
    "response = requests.request('GET', url)\n",
    "currency = response.text.split(\":\")\n",
    "rateUsd = float(currency[1].strip(\"}\"))\n",
    "rateUsd"
   ]
  },
  {
   "cell_type": "code",
   "execution_count": 208,
   "metadata": {},
   "outputs": [
    {
     "data": {
      "text/plain": [
       "1252.21"
      ]
     },
     "execution_count": 208,
     "metadata": {},
     "output_type": "execute_result"
    }
   ],
   "source": [
    "hrk = round(price * rateUsd,2)\n",
    "hrk"
   ]
  },
  {
   "cell_type": "code",
   "execution_count": 209,
   "metadata": {},
   "outputs": [],
   "source": [
    "godOfWar.update({'Hrk': hrk})"
   ]
  },
  {
   "cell_type": "markdown",
   "metadata": {},
   "source": [
    "God of War Website \"Kinguin\""
   ]
  },
  {
   "cell_type": "code",
   "execution_count": 210,
   "metadata": {},
   "outputs": [],
   "source": [
    "url = 'https://www.kinguin.net/category/108174/god-of-war-steam-cd-key'\n",
    "driver.get(url)"
   ]
  },
  {
   "cell_type": "code",
   "execution_count": 211,
   "metadata": {},
   "outputs": [
    {
     "name": "stderr",
     "output_type": "stream",
     "text": [
      "C:\\Users\\BoraBestz\\AppData\\Local\\Temp\\ipykernel_14348\\3415899507.py:1: DeprecationWarning: find_element_by_* commands are deprecated. Please use find_element() instead\n",
      "  findPrice = driver.find_element_by_xpath('//*[@id=\"cheapestOffer\"]/strong[2]').text\n"
     ]
    },
    {
     "data": {
      "text/plain": [
       "34.28"
      ]
     },
     "execution_count": 211,
     "metadata": {},
     "output_type": "execute_result"
    }
   ],
   "source": [
    "findPrice = driver.find_element_by_xpath('//*[@id=\"cheapestOffer\"]/strong[2]').text\n",
    "price = float(findPrice.strip(\"€ \"))\n",
    "price"
   ]
  },
  {
   "cell_type": "code",
   "execution_count": 212,
   "metadata": {},
   "outputs": [
    {
     "data": {
      "text/plain": [
       "1284"
      ]
     },
     "execution_count": 212,
     "metadata": {},
     "output_type": "execute_result"
    }
   ],
   "source": [
    "kinguin = round(price * rateEur)\n",
    "kinguin"
   ]
  },
  {
   "cell_type": "code",
   "execution_count": 213,
   "metadata": {},
   "outputs": [],
   "source": [
    "godOfWar.update({'Kinguin': kinguin})"
   ]
  },
  {
   "cell_type": "markdown",
   "metadata": {},
   "source": [
    "God of War Website \"Steam\""
   ]
  },
  {
   "cell_type": "code",
   "execution_count": 214,
   "metadata": {},
   "outputs": [],
   "source": [
    "url = 'https://store.steampowered.com/app/1593500/God_of_War/'\n",
    "driver.get(url)"
   ]
  },
  {
   "cell_type": "markdown",
   "metadata": {},
   "source": [
    "เปลี่ยนภาษาให้เป็นไทยของ Steam"
   ]
  },
  {
   "cell_type": "code",
   "execution_count": 215,
   "metadata": {},
   "outputs": [
    {
     "name": "stderr",
     "output_type": "stream",
     "text": [
      "C:\\Users\\BoraBestz\\AppData\\Local\\Temp\\ipykernel_14348\\1178862216.py:1: DeprecationWarning: find_element_by_* commands are deprecated. Please use find_element() instead\n",
      "  driver.find_element_by_id(\"language_pulldown\").click()\n",
      "C:\\Users\\BoraBestz\\AppData\\Local\\Temp\\ipykernel_14348\\1178862216.py:2: DeprecationWarning: find_element_by_* commands are deprecated. Please use find_element() instead\n",
      "  driver.find_element_by_css_selector('#language_dropdown > div > a:nth-child(5)').click()\n"
     ]
    }
   ],
   "source": [
    "driver.find_element_by_id(\"language_pulldown\").click()\n",
    "driver.find_element_by_css_selector('#language_dropdown > div > a:nth-child(5)').click()"
   ]
  },
  {
   "cell_type": "markdown",
   "metadata": {},
   "source": [
    "ยืนยันตัวตนอายุของ Steam"
   ]
  },
  {
   "cell_type": "code",
   "execution_count": 216,
   "metadata": {},
   "outputs": [
    {
     "name": "stderr",
     "output_type": "stream",
     "text": [
      "C:\\Users\\BoraBestz\\AppData\\Local\\Temp\\ipykernel_14348\\442801990.py:2: DeprecationWarning: find_element_by_* commands are deprecated. Please use find_element() instead\n",
      "  dropdown = driver.find_element_by_id(\"ageYear\")\n",
      "C:\\Users\\BoraBestz\\AppData\\Local\\Temp\\ipykernel_14348\\442801990.py:5: DeprecationWarning: find_element_by_* commands are deprecated. Please use find_element() instead\n",
      "  driver.find_element_by_css_selector('a.btnv6_blue_hoverfade:nth-child(1)').click()\n"
     ]
    }
   ],
   "source": [
    "time.sleep(3)\n",
    "dropdown = driver.find_element_by_id(\"ageYear\")\n",
    "select = Select(dropdown)\n",
    "select.select_by_visible_text('2000')\n",
    "driver.find_element_by_css_selector('a.btnv6_blue_hoverfade:nth-child(1)').click()\n"
   ]
  },
  {
   "cell_type": "markdown",
   "metadata": {},
   "source": [
    "ค้นหาชื่อเกม God of War"
   ]
  },
  {
   "cell_type": "code",
   "execution_count": 217,
   "metadata": {},
   "outputs": [
    {
     "name": "stderr",
     "output_type": "stream",
     "text": [
      "C:\\Users\\BoraBestz\\AppData\\Local\\Temp\\ipykernel_14348\\2520209710.py:2: DeprecationWarning: find_element_by_* commands are deprecated. Please use find_element() instead\n",
      "  gameName = driver.find_element_by_xpath('//*[@id=\"appHubAppName\"]').text\n"
     ]
    }
   ],
   "source": [
    "time.sleep(1)\n",
    "gameName = driver.find_element_by_xpath('//*[@id=\"appHubAppName\"]').text"
   ]
  },
  {
   "cell_type": "markdown",
   "metadata": {},
   "source": [
    "ค้นหาคำอธิบายเกม God of War"
   ]
  },
  {
   "cell_type": "code",
   "execution_count": 218,
   "metadata": {},
   "outputs": [
    {
     "name": "stderr",
     "output_type": "stream",
     "text": [
      "C:\\Users\\BoraBestz\\AppData\\Local\\Temp\\ipykernel_14348\\1214784685.py:1: DeprecationWarning: find_element_by_* commands are deprecated. Please use find_element() instead\n",
      "  gameDescription = driver.find_element_by_css_selector('#game_highlights > div.rightcol > div > div.game_description_snippet').text\n"
     ]
    }
   ],
   "source": [
    "gameDescription = driver.find_element_by_css_selector('#game_highlights > div.rightcol > div > div.game_description_snippet').text"
   ]
  },
  {
   "cell_type": "markdown",
   "metadata": {},
   "source": [
    "ค้นหาวันวางจำหน่ายเกม God of War"
   ]
  },
  {
   "cell_type": "code",
   "execution_count": 219,
   "metadata": {},
   "outputs": [
    {
     "name": "stderr",
     "output_type": "stream",
     "text": [
      "C:\\Users\\BoraBestz\\AppData\\Local\\Temp\\ipykernel_14348\\2933085198.py:1: DeprecationWarning: find_element_by_* commands are deprecated. Please use find_element() instead\n",
      "  releaseDate = driver.find_element_by_xpath('//*[@id=\"game_highlights\"]/div[1]/div/div[3]/div[2]/div[2]').text\n"
     ]
    }
   ],
   "source": [
    "releaseDate = driver.find_element_by_xpath('//*[@id=\"game_highlights\"]/div[1]/div/div[3]/div[2]/div[2]').text"
   ]
  },
  {
   "cell_type": "markdown",
   "metadata": {},
   "source": [
    "ค้นหาผู้พัฒนาเกม God of War"
   ]
  },
  {
   "cell_type": "code",
   "execution_count": 220,
   "metadata": {},
   "outputs": [
    {
     "name": "stderr",
     "output_type": "stream",
     "text": [
      "C:\\Users\\BoraBestz\\AppData\\Local\\Temp\\ipykernel_14348\\3938208416.py:1: DeprecationWarning: find_element_by_* commands are deprecated. Please use find_element() instead\n",
      "  developer = driver.find_element_by_xpath('//*[@id=\"genresAndManufacturer\"]/div[1]/a').text\n"
     ]
    }
   ],
   "source": [
    "developer = driver.find_element_by_xpath('//*[@id=\"genresAndManufacturer\"]/div[1]/a').text"
   ]
  },
  {
   "cell_type": "markdown",
   "metadata": {},
   "source": [
    "ค้นหาผู้จัดจำหน่ายเกม God of War"
   ]
  },
  {
   "cell_type": "code",
   "execution_count": 221,
   "metadata": {},
   "outputs": [
    {
     "name": "stderr",
     "output_type": "stream",
     "text": [
      "C:\\Users\\BoraBestz\\AppData\\Local\\Temp\\ipykernel_14348\\11062007.py:1: DeprecationWarning: find_element_by_* commands are deprecated. Please use find_element() instead\n",
      "  publisher = driver.find_element_by_xpath('//*[@id=\"genresAndManufacturer\"]/div[2]/a').text\n"
     ]
    }
   ],
   "source": [
    "publisher = driver.find_element_by_xpath('//*[@id=\"genresAndManufacturer\"]/div[2]/a').text"
   ]
  },
  {
   "cell_type": "markdown",
   "metadata": {},
   "source": [
    "ค้นหา tags game ของ God of War"
   ]
  },
  {
   "cell_type": "code",
   "execution_count": 222,
   "metadata": {},
   "outputs": [
    {
     "name": "stderr",
     "output_type": "stream",
     "text": [
      "C:\\Users\\BoraBestz\\AppData\\Local\\Temp\\ipykernel_14348\\2970738670.py:1: DeprecationWarning: find_element_by_* commands are deprecated. Please use find_element() instead\n",
      "  findTagsGame = driver.find_element_by_xpath('//*[@id=\"genresAndManufacturer\"]/span')\n"
     ]
    }
   ],
   "source": [
    "findTagsGame = driver.find_element_by_xpath('//*[@id=\"genresAndManufacturer\"]/span')\n",
    "tagsGame = findTagsGame.text.split(\", \")\n",
    "\n"
   ]
  },
  {
   "cell_type": "markdown",
   "metadata": {},
   "source": [
    "ค้นหา review game ของ God of War"
   ]
  },
  {
   "cell_type": "code",
   "execution_count": 223,
   "metadata": {},
   "outputs": [
    {
     "name": "stderr",
     "output_type": "stream",
     "text": [
      "C:\\Users\\BoraBestz\\AppData\\Local\\Temp\\ipykernel_14348\\4079729643.py:1: DeprecationWarning: find_element_by_* commands are deprecated. Please use find_element() instead\n",
      "  findReviewGame = driver.find_element_by_xpath('//*[@id=\"game_area_metascore\"]/div[1]')\n"
     ]
    }
   ],
   "source": [
    "findReviewGame = driver.find_element_by_xpath('//*[@id=\"game_area_metascore\"]/div[1]')\n",
    "reviewGame = findReviewGame.text\n",
    "\n"
   ]
  },
  {
   "cell_type": "markdown",
   "metadata": {},
   "source": [
    "ค้นหาสเปคขั้นต่ำ"
   ]
  },
  {
   "cell_type": "code",
   "execution_count": 224,
   "metadata": {},
   "outputs": [
    {
     "name": "stderr",
     "output_type": "stream",
     "text": [
      "C:\\Users\\BoraBestz\\AppData\\Local\\Temp\\ipykernel_14348\\844165771.py:1: DeprecationWarning: find_elements_by_* commands are deprecated. Please use find_elements() instead\n",
      "  find_spec_minimum = driver.find_elements_by_xpath('//*[@id=\"tabletGrid\"]/div[1]/div[5]/div[2]/div[8]/div[1]/div/div/div[1]/ul/ul/li')\n"
     ]
    },
    {
     "data": {
      "text/plain": [
       "[<selenium.webdriver.remote.webelement.WebElement (session=\"c6c51bbcfc74bb67f32dc19f8bd89417\", element=\"57b70a13-fa9b-429a-82e4-d55f13761dec\")>,\n",
       " <selenium.webdriver.remote.webelement.WebElement (session=\"c6c51bbcfc74bb67f32dc19f8bd89417\", element=\"105feb78-035c-4048-ab73-263b56e05c12\")>,\n",
       " <selenium.webdriver.remote.webelement.WebElement (session=\"c6c51bbcfc74bb67f32dc19f8bd89417\", element=\"67ef6064-0fd7-4b49-ab47-da13d6372140\")>,\n",
       " <selenium.webdriver.remote.webelement.WebElement (session=\"c6c51bbcfc74bb67f32dc19f8bd89417\", element=\"08b82643-4c61-4af0-9b10-0254cb495e9a\")>,\n",
       " <selenium.webdriver.remote.webelement.WebElement (session=\"c6c51bbcfc74bb67f32dc19f8bd89417\", element=\"ab110bb3-814e-4255-bad5-a86054296849\")>,\n",
       " <selenium.webdriver.remote.webelement.WebElement (session=\"c6c51bbcfc74bb67f32dc19f8bd89417\", element=\"5f8cab24-24be-44f5-b2be-138cba8df152\")>,\n",
       " <selenium.webdriver.remote.webelement.WebElement (session=\"c6c51bbcfc74bb67f32dc19f8bd89417\", element=\"a619ef77-1547-468b-a84e-c8878410b5fc\")>,\n",
       " <selenium.webdriver.remote.webelement.WebElement (session=\"c6c51bbcfc74bb67f32dc19f8bd89417\", element=\"1859b090-4009-4c54-a86c-876eb3a91c1a\")>]"
      ]
     },
     "execution_count": 224,
     "metadata": {},
     "output_type": "execute_result"
    }
   ],
   "source": [
    "find_spec_minimum = driver.find_elements_by_xpath('//*[@id=\"tabletGrid\"]/div[1]/div[5]/div[2]/div[8]/div[1]/div/div/div[1]/ul/ul/li')\n",
    "find_spec_minimum"
   ]
  },
  {
   "cell_type": "code",
   "execution_count": 225,
   "metadata": {},
   "outputs": [],
   "source": [
    "spec_minimum_arr=[]\n",
    "for i in find_spec_minimum:\n",
    "    spec_minimum_arr.append(i.text)"
   ]
  },
  {
   "cell_type": "markdown",
   "metadata": {},
   "source": [
    "ค้นหาสเปคขั้นแนะนำ"
   ]
  },
  {
   "cell_type": "code",
   "execution_count": 226,
   "metadata": {},
   "outputs": [
    {
     "name": "stderr",
     "output_type": "stream",
     "text": [
      "C:\\Users\\BoraBestz\\AppData\\Local\\Temp\\ipykernel_14348\\3768788087.py:1: DeprecationWarning: find_elements_by_* commands are deprecated. Please use find_elements() instead\n",
      "  find_spec_recommend = driver.find_elements_by_xpath('//*[@id=\"tabletGrid\"]/div[1]/div[5]/div[2]/div[8]/div[1]/div/div/div[2]/ul/ul/li')\n"
     ]
    },
    {
     "data": {
      "text/plain": [
       "[<selenium.webdriver.remote.webelement.WebElement (session=\"c6c51bbcfc74bb67f32dc19f8bd89417\", element=\"f741cc21-2231-457d-be9b-9933154ed769\")>,\n",
       " <selenium.webdriver.remote.webelement.WebElement (session=\"c6c51bbcfc74bb67f32dc19f8bd89417\", element=\"1477a356-bb94-47f7-93e4-c9c63e3ee651\")>,\n",
       " <selenium.webdriver.remote.webelement.WebElement (session=\"c6c51bbcfc74bb67f32dc19f8bd89417\", element=\"7973acef-a8d6-43b7-a89e-bb30f0423f87\")>,\n",
       " <selenium.webdriver.remote.webelement.WebElement (session=\"c6c51bbcfc74bb67f32dc19f8bd89417\", element=\"03566f6d-e669-4d51-a3b0-6b0c9b0cb3c4\")>,\n",
       " <selenium.webdriver.remote.webelement.WebElement (session=\"c6c51bbcfc74bb67f32dc19f8bd89417\", element=\"3502cb2b-c97c-4b76-8171-46fd5f8b9eab\")>,\n",
       " <selenium.webdriver.remote.webelement.WebElement (session=\"c6c51bbcfc74bb67f32dc19f8bd89417\", element=\"52064e90-07d6-45df-9cfd-3ccf4af30e57\")>,\n",
       " <selenium.webdriver.remote.webelement.WebElement (session=\"c6c51bbcfc74bb67f32dc19f8bd89417\", element=\"3cef74cd-c859-4f68-a01c-5b2155f6a618\")>,\n",
       " <selenium.webdriver.remote.webelement.WebElement (session=\"c6c51bbcfc74bb67f32dc19f8bd89417\", element=\"b85eff66-cd33-463e-ae55-e9bd156b695f\")>]"
      ]
     },
     "execution_count": 226,
     "metadata": {},
     "output_type": "execute_result"
    }
   ],
   "source": [
    "find_spec_recommend = driver.find_elements_by_xpath('//*[@id=\"tabletGrid\"]/div[1]/div[5]/div[2]/div[8]/div[1]/div/div/div[2]/ul/ul/li')\n",
    "find_spec_recommend"
   ]
  },
  {
   "cell_type": "code",
   "execution_count": 227,
   "metadata": {},
   "outputs": [],
   "source": [
    "spec_recommend_arr=[]\n",
    "for i in find_spec_recommend:\n",
    "    spec_recommend_arr.append(i.text)\n"
   ]
  },
  {
   "cell_type": "markdown",
   "metadata": {},
   "source": [
    "เช็คราคาของ Steam"
   ]
  },
  {
   "cell_type": "code",
   "execution_count": 228,
   "metadata": {},
   "outputs": [
    {
     "name": "stderr",
     "output_type": "stream",
     "text": [
      "C:\\Users\\BoraBestz\\AppData\\Local\\Temp\\ipykernel_14348\\3796270241.py:1: DeprecationWarning: find_element_by_* commands are deprecated. Please use find_element() instead\n",
      "  findPrice = driver.find_element_by_xpath('//*[@id=\"game_area_purchase_section_add_to_cart_564166\"]/div[2]/div/div[1]').text\n"
     ]
    },
    {
     "data": {
      "text/plain": [
       "1290.0"
      ]
     },
     "execution_count": 228,
     "metadata": {},
     "output_type": "execute_result"
    }
   ],
   "source": [
    "findPrice = driver.find_element_by_xpath('//*[@id=\"game_area_purchase_section_add_to_cart_564166\"]/div[2]/div/div[1]').text\n",
    "steam = float(findPrice.replace(\"฿\",\"\",).replace(\",\",\"\"))\n",
    "steam"
   ]
  },
  {
   "cell_type": "code",
   "execution_count": 229,
   "metadata": {},
   "outputs": [],
   "source": [
    "godOfWar.update({'Steam': steam})"
   ]
  },
  {
   "cell_type": "markdown",
   "metadata": {},
   "source": [
    "God of War Website \"Epicgames\""
   ]
  },
  {
   "cell_type": "code",
   "execution_count": 5,
   "metadata": {},
   "outputs": [],
   "source": [
    "url = 'https://www.epicgames.com/store/en-US/p/god-of-war'\n",
    "driver.get(url)"
   ]
  },
  {
   "cell_type": "markdown",
   "metadata": {},
   "source": [
    "ยืนยันตัวตนของ Epicgames"
   ]
  },
  {
   "cell_type": "code",
   "execution_count": 231,
   "metadata": {},
   "outputs": [
    {
     "name": "stderr",
     "output_type": "stream",
     "text": [
      "C:\\Users\\BoraBestz\\AppData\\Local\\Temp\\ipykernel_14348\\3656950877.py:1: DeprecationWarning: find_element_by_* commands are deprecated. Please use find_element() instead\n",
      "  driver.find_element_by_class_name('css-38hacf').click()\n"
     ]
    }
   ],
   "source": [
    "driver.find_element_by_class_name('css-38hacf').click()"
   ]
  },
  {
   "cell_type": "markdown",
   "metadata": {},
   "source": [
    "เช็คราคาของ Epicgames"
   ]
  },
  {
   "cell_type": "code",
   "execution_count": 232,
   "metadata": {},
   "outputs": [
    {
     "name": "stderr",
     "output_type": "stream",
     "text": [
      "C:\\Users\\BoraBestz\\AppData\\Local\\Temp\\ipykernel_14348\\1931833390.py:1: DeprecationWarning: find_element_by_* commands are deprecated. Please use find_element() instead\n",
      "  findPrice = driver.find_element_by_xpath('//*[@id=\"dieselReactWrapper\"]/div/div[4]/main/div[2]/div/div/div/div[2]/div[2]/div/aside/div/div/div[3]/div/div/span/div/span').text\n"
     ]
    },
    {
     "data": {
      "text/plain": [
       "1290.0"
      ]
     },
     "execution_count": 232,
     "metadata": {},
     "output_type": "execute_result"
    }
   ],
   "source": [
    "findPrice = driver.find_element_by_xpath('//*[@id=\"dieselReactWrapper\"]/div/div[4]/main/div[2]/div/div/div/div[2]/div[2]/div/aside/div/div/div[3]/div/div/span/div/span').text\n",
    "epicGames =  float(findPrice.replace(\"THB\",\"\").replace(\",\",\"\"))\n",
    "epicGames"
   ]
  },
  {
   "cell_type": "code",
   "execution_count": 233,
   "metadata": {},
   "outputs": [],
   "source": [
    "godOfWar.update({'Epicgames': epicGames})"
   ]
  },
  {
   "cell_type": "markdown",
   "metadata": {},
   "source": [
    "หาเรทอายุเกม God of War"
   ]
  },
  {
   "cell_type": "code",
   "execution_count": 234,
   "metadata": {},
   "outputs": [],
   "source": [
    "url = 'https://www.commonsensemedia.org/game-reviews/god-of-war-2018'\n",
    "driver.get(url)"
   ]
  },
  {
   "cell_type": "code",
   "execution_count": 235,
   "metadata": {},
   "outputs": [
    {
     "name": "stderr",
     "output_type": "stream",
     "text": [
      "C:\\Users\\BoraBestz\\AppData\\Local\\Temp\\ipykernel_14348\\1607917221.py:1: DeprecationWarning: find_element_by_* commands are deprecated. Please use find_element() instead\n",
      "  findAge = driver.find_element_by_xpath('//*[@id=\"content\"]/div/div[1]/div[1]/div[2]/div/div[2]/div/div/div/div/div')\n"
     ]
    },
    {
     "data": {
      "text/plain": [
       "'17+'"
      ]
     },
     "execution_count": 235,
     "metadata": {},
     "output_type": "execute_result"
    }
   ],
   "source": [
    "findAge = driver.find_element_by_xpath('//*[@id=\"content\"]/div/div[1]/div[1]/div[2]/div/div[2]/div/div/div/div/div')\n",
    "ageRequire = findAge.text.strip(\"age \")\n",
    "ageRequire\n",
    "\n",
    "\n",
    "\n"
   ]
  },
  {
   "cell_type": "markdown",
   "metadata": {},
   "source": [
    "เรียงราคาเกม God of War จากน้อยไปมากของแต่ละเว็บไซต์"
   ]
  },
  {
   "cell_type": "code",
   "execution_count": 236,
   "metadata": {},
   "outputs": [],
   "source": [
    "gamePrice = sorted(godOfWar.items(), key=lambda x: x[1], reverse=False)"
   ]
  },
  {
   "cell_type": "markdown",
   "metadata": {},
   "source": [
    "ชื่อเกม"
   ]
  },
  {
   "cell_type": "code",
   "execution_count": 237,
   "metadata": {},
   "outputs": [
    {
     "data": {
      "text/plain": [
       "'God of War'"
      ]
     },
     "execution_count": 237,
     "metadata": {},
     "output_type": "execute_result"
    }
   ],
   "source": [
    "gameName"
   ]
  },
  {
   "cell_type": "markdown",
   "metadata": {},
   "source": [
    "คำอธิบายเกม God of War"
   ]
  },
  {
   "cell_type": "code",
   "execution_count": 238,
   "metadata": {},
   "outputs": [
    {
     "data": {
      "text/plain": [
       "'การชำระแค้นกับเหล่าทวยเทพแห่งโอลิมปัสผ่านพ้นมาหลายปีแล้ว บัดนี้เครโทสใช้ชีวิตเยี่ยงชายคนหนึ่งในดินแดนของเหล่าเทพเจ้าแห่งนอร์สและหมู่มวลสัตว์ประหลาด ในโลกอันโหดร้ายและไม่ปรานีปราศรัยแห่งนี้ เขาต้องต่อสู้เพื่อเอาชีวิตรอด... และต้องสอนลูกชายให้ทำแบบเดียวกันด้วย'"
      ]
     },
     "execution_count": 238,
     "metadata": {},
     "output_type": "execute_result"
    }
   ],
   "source": [
    "gameDescription"
   ]
  },
  {
   "cell_type": "markdown",
   "metadata": {},
   "source": [
    "ผู้พัฒนาเกม God of War"
   ]
  },
  {
   "cell_type": "code",
   "execution_count": 239,
   "metadata": {},
   "outputs": [
    {
     "data": {
      "text/plain": [
       "'Santa Monica Studio'"
      ]
     },
     "execution_count": 239,
     "metadata": {},
     "output_type": "execute_result"
    }
   ],
   "source": [
    "developer"
   ]
  },
  {
   "cell_type": "markdown",
   "metadata": {},
   "source": [
    "ผู้จัดจำหน่ายเกม God of War"
   ]
  },
  {
   "cell_type": "code",
   "execution_count": 240,
   "metadata": {},
   "outputs": [
    {
     "data": {
      "text/plain": [
       "'PlayStation PC LLC'"
      ]
     },
     "execution_count": 240,
     "metadata": {},
     "output_type": "execute_result"
    }
   ],
   "source": [
    "publisher"
   ]
  },
  {
   "cell_type": "markdown",
   "metadata": {},
   "source": [
    "วันวางจำหน่ายเกม God of War"
   ]
  },
  {
   "cell_type": "code",
   "execution_count": 241,
   "metadata": {},
   "outputs": [
    {
     "data": {
      "text/plain": [
       "'14 ม.ค. 2022'"
      ]
     },
     "execution_count": 241,
     "metadata": {},
     "output_type": "execute_result"
    }
   ],
   "source": [
    "releaseDate"
   ]
  },
  {
   "cell_type": "markdown",
   "metadata": {},
   "source": [
    "แท็กเกม God of War"
   ]
  },
  {
   "cell_type": "code",
   "execution_count": 242,
   "metadata": {},
   "outputs": [
    {
     "data": {
      "text/plain": [
       "['แอ็คชัน', 'ผจญภัย', 'เกมสวมบทบาท']"
      ]
     },
     "execution_count": 242,
     "metadata": {},
     "output_type": "execute_result"
    }
   ],
   "source": [
    "tagsGame"
   ]
  },
  {
   "cell_type": "markdown",
   "metadata": {},
   "source": [
    "สเปคขั้นต่ำเกม God of War"
   ]
  },
  {
   "cell_type": "code",
   "execution_count": 243,
   "metadata": {},
   "outputs": [
    {
     "data": {
      "text/plain": [
       "['ต้องการหน่วยประมวลผลและระบบปฏิบัติการแบบ 64 บิต',\n",
       " 'ระบบปฏิบัติการ: Windows 10 64-bit',\n",
       " 'หน่วยประมวลผล: Intel i5-2500k (4 core 3.3 GHz) or AMD Ryzen 3 1200 (4 core 3.1 GHz)',\n",
       " 'หน่วยความจำ: แรม 8 GB',\n",
       " 'กราฟิกส์: NVIDIA GTX 960 (4 GB) or AMD R9 290X (4 GB)',\n",
       " 'DirectX: เวอร์ชัน 11',\n",
       " 'พื้นที่จัดเก็บข้อมูล: พื้นที่ว่างที่พร้อมใช้งาน 70 GB',\n",
       " 'หมายเหตุเพิ่มเติม: DirectX feature level 11_1 required']"
      ]
     },
     "execution_count": 243,
     "metadata": {},
     "output_type": "execute_result"
    }
   ],
   "source": [
    "spec_minimum_arr"
   ]
  },
  {
   "cell_type": "markdown",
   "metadata": {},
   "source": [
    "สเปคขั้นแนะนำ God of War"
   ]
  },
  {
   "cell_type": "code",
   "execution_count": 244,
   "metadata": {},
   "outputs": [
    {
     "data": {
      "text/plain": [
       "['ต้องการหน่วยประมวลผลและระบบปฏิบัติการแบบ 64 บิต',\n",
       " 'ระบบปฏิบัติการ: Windows 10 64-bit',\n",
       " 'หน่วยประมวลผล: Intel i5-6600k (4 core 3.5 GHz) or AMD Ryzen 5 2400 G (4 core 3.6 GHz)',\n",
       " 'หน่วยความจำ: แรม 8 GB',\n",
       " 'กราฟิกส์: NVIDIA GTX 1060 (6 GB) or AMD RX 570 (4 GB)',\n",
       " 'DirectX: เวอร์ชัน 11',\n",
       " 'พื้นที่จัดเก็บข้อมูล: พื้นที่ว่างที่พร้อมใช้งาน 70 GB',\n",
       " 'หมายเหตุเพิ่มเติม: DirectX feature level 11_1 required']"
      ]
     },
     "execution_count": 244,
     "metadata": {},
     "output_type": "execute_result"
    }
   ],
   "source": [
    "spec_recommend_arr"
   ]
  },
  {
   "cell_type": "markdown",
   "metadata": {},
   "source": [
    "เซฟข้อมูลลง table game_data "
   ]
  },
  {
   "cell_type": "code",
   "execution_count": 245,
   "metadata": {},
   "outputs": [
    {
     "data": {
      "text/plain": [
       "True"
      ]
     },
     "execution_count": 245,
     "metadata": {},
     "output_type": "execute_result"
    }
   ],
   "source": [
    "cursor = mydb.cursor()\n",
    "cursor.execute(\"SELECT game_name FROM games_data\")\n",
    "myresult = cursor.fetchall()\n",
    "if myresult == []:\n",
    "    insert =\"INSERT INTO games_data (game_name, release_date, developer, publisher, required_age, review_summary, game_description) VALUES(%s,%s,%s,%s,%s,%s,%s)\"\n",
    "    values=(gameName,releaseDate,developer,publisher,ageRequire,reviewGame,gameDescription)\n",
    "    cursor.execute(insert,values)\n",
    "    mydb.commit()\n",
    "    gameId = cursor.lastrowid\n",
    "else:\n",
    "    for i in myresult:\n",
    "        count = int(0)\n",
    "        if i[0] == gameName:\n",
    "            count += 1\n",
    "    if count == 0:\n",
    "        insert =\"INSERT INTO games_data (game_name, release_date, developer, publisher, required_age, review_summary, game_description) VALUES(%s,%s,%s,%s,%s,%s,%s)\"\n",
    "        values=(gameName,releaseDate,developer,publisher,ageRequire,reviewGame,gameDescription)\n",
    "        cursor.execute(insert,values)\n",
    "        mydb.commit()\n",
    "        gameId = cursor.lastrowid\n",
    "    # else:\n",
    "    # update record\n",
    "\n",
    "cursor.close()"
   ]
  },
  {
   "cell_type": "markdown",
   "metadata": {},
   "source": [
    "เซฟข้อมูลลง table game_spec"
   ]
  },
  {
   "cell_type": "code",
   "execution_count": 246,
   "metadata": {},
   "outputs": [
    {
     "data": {
      "text/plain": [
       "True"
      ]
     },
     "execution_count": 246,
     "metadata": {},
     "output_type": "execute_result"
    }
   ],
   "source": [
    "cursor = mydb.cursor()\n",
    "cursor.execute(\"SELECT game_id FROM games_spec\")\n",
    "myresult = cursor.fetchall()\n",
    "if myresult == []:\n",
    "    insert =\"INSERT INTO games_spec (game_id, bit_system_minimum, os_minimum, cpu_minimum,ram_minimum, vga_minimum, directx_minimum, storage_minimum, remark_minimum,bit_system_recommend, os_recommend, cpu_recommend, ram_recommend, vga_recommend, directx_recommend, storage_recommend, remark_recommend) VALUES (%s,%s,%s,%s,%s,%s,%s,%s,%s,%s,%s,%s,%s,%s,%s,%s,%s)\"\n",
    "    values = []\n",
    "    values.append(gameId)\n",
    "    for i in spec_minimum_arr:\n",
    "        values.append(i)\n",
    "    for i in spec_recommend_arr:\n",
    "        values.append(i)\n",
    "    cursor.execute(insert,values)\n",
    "    mydb.commit()\n",
    "else:\n",
    "    for i in myresult:\n",
    "        count = int(0)\n",
    "        if i[0] == gameId:\n",
    "            count += 1\n",
    "    if count == 0:\n",
    "        insert =\"INSERT INTO games_spec (game_id, bit_system_minimum, os_minimum, cpu_minimum,ram_minimum, vga_minimum, directx_minimum, storage_minimum, remark_minimum,bit_system_recommend, os_recommend, cpu_recommend, ram_recommend, vga_recommend, directx_recommend, storage_recommend, remark_recommend) VALUES (%s,%s,%s,%s,%s,%s,%s,%s,%s,%s,%s,%s,%s,%s,%s,%s,%s)\"\n",
    "        values = []\n",
    "        values.append(gameId)\n",
    "        for i in spec_minimum_arr:\n",
    "            values.append(i)\n",
    "        for i in spec_recommend_arr:\n",
    "            values.append(i)\n",
    "        cursor.execute(insert,values)\n",
    "        mydb.commit()\n",
    "    # else:\n",
    "    # update record\n",
    "cursor.close()"
   ]
  },
  {
   "cell_type": "markdown",
   "metadata": {},
   "source": [
    "<!-- เซฟข้อมูลลง table games_price -->"
   ]
  },
  {
   "cell_type": "code",
   "execution_count": 247,
   "metadata": {},
   "outputs": [],
   "source": [
    "# cursor = mydb.cursor()\n",
    "# cursor.execute(\"SELECT game_id FROM games_price\")\n",
    "# myresult = cursor.fetchall()\n",
    "# if myresult == []:\n",
    "#     insert =\"INSERT INTO games_price (game_id, steam, epicgames, gamivo, hrk, gamesrig, kinguin) VALUES (%s,%s,%s,%s,%s,%s,%s)\"\n",
    "#     values = [gameId,steam,epicGames,gamivo,hrk,gameSrig,kinguin]\n",
    "#     cursor.execute(insert,values)\n",
    "#     mydb.commit()           \n",
    "# else:\n",
    "#     for i in myresult:\n",
    "#         count = int(0)\n",
    "#         if i[0] == gameId:\n",
    "#             count += 1\n",
    "#     if count == 0:\n",
    "#         insert =\"INSERT INTO games_price (game_id, steam, epicgames, gamivo, hrk, gamesrig, kinguin) VALUES (%s,%s,%s,%s,%s,%s,%s)\"\n",
    "#         values = [gameId,steam,epicGames,gamivo,hrk,gameSrig,kinguin]\n",
    "#         cursor.execute(insert,values)\n",
    "#         mydb.commit()  \n",
    "#     # else:\n",
    "#     # update record\n",
    "# cursor.close()"
   ]
  },
  {
   "cell_type": "markdown",
   "metadata": {},
   "source": [
    "เซฟข้อมูลลง table tags_data"
   ]
  },
  {
   "cell_type": "code",
   "execution_count": 248,
   "metadata": {},
   "outputs": [
    {
     "data": {
      "text/plain": [
       "True"
      ]
     },
     "execution_count": 248,
     "metadata": {},
     "output_type": "execute_result"
    }
   ],
   "source": [
    "cursor = mydb.cursor()\n",
    "cursor.execute(\"SELECT tag_name FROM tags_data\")\n",
    "listTagsId = []\n",
    "myresult = cursor.fetchall()\n",
    "for i in tagsGame:\n",
    "    count = int(0)\n",
    "    for x in myresult:\n",
    "        if  x[0] == i:\n",
    "            count += 1\n",
    "    if count == 0:\n",
    "        insert =\"INSERT INTO tags_data (tag_name) VALUES (%s)\"\n",
    "        values = [i]\n",
    "        cursor.execute(insert,values)\n",
    "        tagId = cursor.lastrowid\n",
    "        listTagsId.append(tagId)\n",
    "mydb.commit()\n",
    "cursor.close()\n"
   ]
  },
  {
   "cell_type": "code",
   "execution_count": 249,
   "metadata": {},
   "outputs": [
    {
     "name": "stdout",
     "output_type": "stream",
     "text": [
      "GameSrig\n",
      "Hrk\n",
      "Kinguin\n",
      "Steam\n",
      "Epicgames\n",
      "Gamivo\n"
     ]
    }
   ],
   "source": [
    "for i in gamePrice:\n",
    "    print(i[0])"
   ]
  },
  {
   "cell_type": "markdown",
   "metadata": {},
   "source": [
    "เซฟข้อมูลลง table market_data"
   ]
  },
  {
   "cell_type": "code",
   "execution_count": 250,
   "metadata": {},
   "outputs": [
    {
     "data": {
      "text/plain": [
       "True"
      ]
     },
     "execution_count": 250,
     "metadata": {},
     "output_type": "execute_result"
    }
   ],
   "source": [
    "cursor = mydb.cursor()\n",
    "cursor.execute(\"SELECT market_name FROM market_data\")\n",
    "myresult = cursor.fetchall()\n",
    "listMarketId = []\n",
    "for i in gamePrice:\n",
    "    count = int(0)\n",
    "    for x in myresult:\n",
    "        if x[0] == i[0]:\n",
    "            count += 1\n",
    "    if count == 0:\n",
    "        insert = \"INSERT INTO market_data (market_name) VALUES (%s)\"\n",
    "        values = [i[0]]\n",
    "        cursor.execute(insert,values)\n",
    "        marketId = cursor.lastrowid\n",
    "        listMarketId.append(marketId)\n",
    "    # else:\n",
    "    # update record\n",
    "mydb.commit()\n",
    "cursor.close()"
   ]
  },
  {
   "cell_type": "markdown",
   "metadata": {},
   "source": [
    "เซฟข้อมูลลง table price_check"
   ]
  },
  {
   "cell_type": "code",
   "execution_count": 251,
   "metadata": {},
   "outputs": [
    {
     "data": {
      "text/plain": [
       "True"
      ]
     },
     "execution_count": 251,
     "metadata": {},
     "output_type": "execute_result"
    }
   ],
   "source": [
    "cursor = mydb.cursor()\n",
    "cursor.execute(\"SELECT market_id FROM price_check\")\n",
    "myresult = cursor.fetchall()\n",
    "j = 0\n",
    "for i in listMarketId:\n",
    "    count = int(0)\n",
    "    for x in myresult:\n",
    "        if x[0] == i:\n",
    "            count += 1\n",
    "    if count == 0:\n",
    "        insert = \"INSERT INTO price_check (game_id, market_id, now_price) VALUES (%s,%s,%s)\"\n",
    "        values = [gameId,i,gamePrice[j][1]]\n",
    "        cursor.execute(insert,values)\n",
    "        j += 1\n",
    "    # else:\n",
    "    # update record\n",
    "mydb.commit()\n",
    "cursor.close()"
   ]
  },
  {
   "cell_type": "markdown",
   "metadata": {},
   "source": [
    "เซฟข้อมูลลง table games_tags_data"
   ]
  },
  {
   "cell_type": "code",
   "execution_count": 252,
   "metadata": {},
   "outputs": [
    {
     "data": {
      "text/plain": [
       "True"
      ]
     },
     "execution_count": 252,
     "metadata": {},
     "output_type": "execute_result"
    }
   ],
   "source": [
    "cursor = mydb.cursor()\n",
    "cursor.execute(\"SELECT tag_id FROM games_tags_data\")\n",
    "myresult = cursor.fetchall()\n",
    "for i in listTagsId:\n",
    "    count = int(0)\n",
    "    for x in myresult:\n",
    "        if  x[0] == i:\n",
    "            count += 1\n",
    "    if count == 0:\n",
    "        insert =\"INSERT INTO games_tags_data (game_id, tag_id) VALUES (%s,%s)\"\n",
    "        values = [gameId,i]\n",
    "        cursor.execute(insert,values)\n",
    "        \n",
    "mydb.commit()\n",
    "cursor.close()"
   ]
  },
  {
   "cell_type": "code",
   "execution_count": 253,
   "metadata": {},
   "outputs": [],
   "source": [
    "mydb.close()"
   ]
  }
 ],
 "metadata": {
  "interpreter": {
   "hash": "c31365af2d66befaf3741afc46d117750c72bedcad90c9b027e5f5dbd320a013"
  },
  "kernelspec": {
   "display_name": "Python 3.10.1 64-bit",
   "language": "python",
   "name": "python3"
  },
  "language_info": {
   "codemirror_mode": {
    "name": "ipython",
    "version": 3
   },
   "file_extension": ".py",
   "mimetype": "text/x-python",
   "name": "python",
   "nbconvert_exporter": "python",
   "pygments_lexer": "ipython3",
   "version": "3.9.10"
  },
  "orig_nbformat": 4
 },
 "nbformat": 4,
 "nbformat_minor": 2
}
