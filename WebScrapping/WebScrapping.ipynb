{
 "cells": [
  {
   "cell_type": "code",
   "execution_count": 91,
   "metadata": {},
   "outputs": [],
   "source": [
    "from selenium import webdriver\n",
    "from selenium.webdriver.support.ui import Select\n",
    "import time, requests\n",
    "import json\n",
    "import numpy as np\n",
    "import mysql.connector as mysql\n",
    "from currency_converter import CurrencyConverter"
   ]
  },
  {
   "cell_type": "code",
   "execution_count": 92,
   "metadata": {},
   "outputs": [],
   "source": [
    "import undetected_chromedriver as uc\n",
    "driver = uc.Chrome()\n",
    "driver.maximize_window()"
   ]
  },
  {
   "cell_type": "code",
   "execution_count": 93,
   "metadata": {},
   "outputs": [],
   "source": [
    "c = CurrencyConverter()"
   ]
  },
  {
   "cell_type": "code",
   "execution_count": 94,
   "metadata": {},
   "outputs": [],
   "source": [
    "mydb = mysql.connect(\n",
    "  host=\"l6glqt8gsx37y4hs.cbetxkdyhwsb.us-east-1.rds.amazonaws.com\",\n",
    "  user=\"vhaithj2ezjri3a5\",\n",
    "  password=\"htf06l6xp0gsgoei\",\n",
    "  database = \"bovesv3pjmkwzex5\"\n",
    ")"
   ]
  },
  {
   "cell_type": "code",
   "execution_count": 95,
   "metadata": {},
   "outputs": [],
   "source": [
    "# driver=webdriver.Chrome(executable_path='D:\\chromedriver.exe')\n",
    "# driver.maximize_window()\n"
   ]
  },
  {
   "cell_type": "code",
   "execution_count": 96,
   "metadata": {},
   "outputs": [],
   "source": [
    "# mail_address = 'windwalkerz42@gmail.com'\n",
    "# password = '@Best'\n",
    "# url = 'https://www.google.com/accounts/Login?hl=ja&continue=http://www.google.co.jp/'\n",
    "# driver.get(url)"
   ]
  },
  {
   "cell_type": "markdown",
   "metadata": {},
   "source": [
    "USD"
   ]
  },
  {
   "cell_type": "code",
   "execution_count": 97,
   "metadata": {},
   "outputs": [],
   "source": [
    "def convertUsd(price):\n",
    "    price = c.convert(price, 'USD', 'THB')\n",
    "    return price"
   ]
  },
  {
   "cell_type": "markdown",
   "metadata": {},
   "source": [
    "EUR"
   ]
  },
  {
   "cell_type": "code",
   "execution_count": 98,
   "metadata": {},
   "outputs": [],
   "source": [
    "def convertEur(price):\n",
    "    price = c.convert(price, 'EUR', 'THB')\n",
    "    return price\n",
    "    "
   ]
  },
  {
   "cell_type": "markdown",
   "metadata": {},
   "source": [
    "  *** Function market price ***"
   ]
  },
  {
   "cell_type": "markdown",
   "metadata": {},
   "source": [
    "GameSrig"
   ]
  },
  {
   "cell_type": "code",
   "execution_count": 99,
   "metadata": {},
   "outputs": [],
   "source": [
    "def market_8(url, gameId, marketId):\n",
    "    driver.get(url)\n",
    "    try:\n",
    "        findPrice = driver.find_element_by_xpath('//*[@id=\"blockB\"]/div/div/div[2]/div').text\n",
    "        price = float(findPrice.replace(\"฿\",\"\"))\n",
    "    except:\n",
    "        price = float(0)\n",
    "    update = \"UPDATE price_check SET now_price = (%s) WHERE game_id  = (%s) AND market_id = (%s)\"\n",
    "    values = [price, gameId, marketId]\n",
    "    cursor.execute(update,values)\n",
    "    mydb.commit()\n",
    "    cursor.close"
   ]
  },
  {
   "cell_type": "markdown",
   "metadata": {},
   "source": [
    "HRK"
   ]
  },
  {
   "cell_type": "code",
   "execution_count": 100,
   "metadata": {},
   "outputs": [],
   "source": [
    "def market_9(url, gameId, marketId):\n",
    "    driver.get(url)\n",
    "    try:\n",
    "        findPrice = driver.find_element_by_xpath('//*[@id=\"store_form\"]/div/div[1]/div/div/div[2]')\n",
    "        beforePrice = float(findPrice.text.strip(\"$\"))\n",
    "    except:\n",
    "        lastPrice = float(0)\n",
    "        beforePrice = float(0)\n",
    "    lastPrice = round(convertUsd(beforePrice),2)\n",
    "    lastPrice = str(lastPrice)\n",
    "    beforePrice = str(beforePrice)\n",
    "    update = \"UPDATE price_check SET before_price = (%s), now_price = (%s) WHERE game_id  = (%s) AND market_id = (%s)\"\n",
    "    values = [beforePrice,lastPrice, gameId, marketId]\n",
    "    cursor.execute(update,values)\n",
    "    mydb.commit()\n",
    "    cursor.close\n"
   ]
  },
  {
   "cell_type": "markdown",
   "metadata": {},
   "source": [
    "Kinguin"
   ]
  },
  {
   "cell_type": "code",
   "execution_count": 101,
   "metadata": {},
   "outputs": [],
   "source": [
    "def market_10(url, gameId, marketId):\n",
    "    driver.get(url)\n",
    "    try:   \n",
    "        findPrice = driver.find_element_by_xpath('/html/body/div[1]/div[3]/div/div[1]/div[1]/div[2]/div[2]/div[3]/div/div/div[4]/div/div[2]/div/div/span[1]/span[2]').text\n",
    "        beforePrice = float(findPrice.strip(\"€ \"))\n",
    "    except:\n",
    "        lastPrice = float(0)\n",
    "        beforePrice = float(0)\n",
    "    lastPrice = round(convertEur(beforePrice),2)\n",
    "    lastPrice = str(lastPrice)\n",
    "    beforePrice = str(beforePrice)\n",
    "    update = \"UPDATE price_check SET before_price = (%s), now_price = (%s) WHERE game_id  = (%s) AND market_id = (%s)\"\n",
    "    values = [beforePrice,lastPrice, gameId, marketId]\n",
    "    cursor.execute(update,values)\n",
    "    mydb.commit()\n",
    "    cursor.close"
   ]
  },
  {
   "cell_type": "markdown",
   "metadata": {},
   "source": [
    "Steam price"
   ]
  },
  {
   "cell_type": "code",
   "execution_count": 102,
   "metadata": {},
   "outputs": [],
   "source": [
    "def market_11(url, gameId, marketId):\n",
    "    cursor = mydb.cursor()\n",
    "    cursor.execute(\"SELECT steam_id FROM games_data WHERE game_id = \"+str(gameId)+\"\")\n",
    "    myresult = cursor.fetchall()\n",
    "    response = requests.get(url)\n",
    "    gameJson = response.json()\n",
    "    price = 0\n",
    "    try :\n",
    "        if (gameJson[myresult[0][0]]['success'] == True) :\n",
    "            gameDetail = gameJson[myresult[0][0]]['data']\n",
    "            price = float(gameDetail['price_overview']['final_formatted'].replace(\"฿\",\"\").replace(\",\",\"\"))\n",
    "    except:\n",
    "        print(myresult[0][0])\n",
    "    finally:\n",
    "        cursor = mydb.cursor()\n",
    "        update = \"UPDATE price_check SET now_price = %s WHERE game_id  = %s AND market_id = %s\"\n",
    "        values = [price,gameId,marketId]\n",
    "        cursor.execute(update,values)\n",
    "        mydb.commit() \n",
    "        cursor.close\n",
    "    "
   ]
  },
  {
   "cell_type": "markdown",
   "metadata": {},
   "source": [
    "Epic Games"
   ]
  },
  {
   "cell_type": "code",
   "execution_count": 103,
   "metadata": {},
   "outputs": [],
   "source": [
    "def market_12(url, gameId, marketId, checkEpicgames):\n",
    "    driver.get(url)\n",
    "    try:\n",
    "        if checkEpicgames == 0:\n",
    "            driver.find_element_by_class_name('css-38hacf').click()\n",
    "            checkEpicgames = True\n",
    "    except:\n",
    "        price = float(0)\n",
    "        beforePrice = float(0)\n",
    "    time.sleep(2)\n",
    "    findPrice = driver.find_element_by_xpath('//*[@id=\"dieselReactWrapper\"]/div/div[4]/main/div[2]/div/div/div/div[2]/div/div/aside/div/div/div[3]/div/div/span/div/span').text\n",
    "    price =  float(findPrice.replace(\"THB\",\"\").replace(\",\",\"\"))\n",
    "    cursor = mydb.cursor()\n",
    "    update = \"UPDATE price_check SET now_price = %s WHERE game_id  = %s AND market_id = %s\"\n",
    "    values = [price, gameId, marketId]\n",
    "    cursor.execute(update,values)\n",
    "    mydb.commit()\n",
    "    cursor.close\n",
    "        \n"
   ]
  },
  {
   "cell_type": "markdown",
   "metadata": {},
   "source": [
    "Gamivo"
   ]
  },
  {
   "cell_type": "code",
   "execution_count": 104,
   "metadata": {},
   "outputs": [],
   "source": [
    "def market_13(url, gameId, marketId):\n",
    "    driver.get(url)\n",
    "    try:\n",
    "        time.sleep(2)\n",
    "        findPrice = driver.find_element_by_xpath('/html/body/app-root/div/div/app-product/div/div[2]/div[2]/app-product-offer-price/div/div[4]/div[1]/div/div[2]/span').text\n",
    "        beforePrice = float(findPrice.strip(\"€ \"))\n",
    "        print(beforePrice)\n",
    "        \n",
    "    except:\n",
    "        lastPrice = float(0)\n",
    "        beforePrice = float(0)\n",
    "    lastPrice = round(convertEur(beforePrice),2)\n",
    "    lastPrice = str(lastPrice)\n",
    "    beforePrice = str(beforePrice)\n",
    "    cursor = mydb.cursor()\n",
    "    update = \"UPDATE price_check SET before_price = (%s), now_price = (%s) WHERE game_id  = (%s) AND market_id = (%s)\"\n",
    "    values = [beforePrice,lastPrice, gameId, marketId]\n",
    "    cursor.execute(update,values)\n",
    "    mydb.commit()\n",
    "    cursor.close"
   ]
  },
  {
   "cell_type": "code",
   "execution_count": 105,
   "metadata": {},
   "outputs": [
    {
     "name": "stdout",
     "output_type": "stream",
     "text": [
      "(22, 8, 'https://www.gamesrig.com/god-of-war-steam-key')\n"
     ]
    },
    {
     "name": "stderr",
     "output_type": "stream",
     "text": [
      "C:\\Users\\BoraBestz\\AppData\\Local\\Temp\\ipykernel_4192\\176298565.py:4: DeprecationWarning: find_element_by_* commands are deprecated. Please use find_element() instead\n",
      "  findPrice = driver.find_element_by_xpath('//*[@id=\"blockB\"]/div/div/div[2]/div').text\n"
     ]
    },
    {
     "name": "stdout",
     "output_type": "stream",
     "text": [
      "(22, 9, 'https://www.hrkgame.com/en/games/product/god-of-war')\n",
      "(22, 10, 'https://www.kinguin.net/category/108174/god-of-war-steam-cd-key')\n",
      "(22, 11, 'https://store.steampowered.com/api/appdetails?appids=1593500&l=thai')\n",
      "(22, 12, 'https://www.epicgames.com/store/en-US/p/god-of-war')\n"
     ]
    },
    {
     "name": "stderr",
     "output_type": "stream",
     "text": [
      "C:\\Users\\BoraBestz\\AppData\\Local\\Temp\\ipykernel_4192\\3814315525.py:5: DeprecationWarning: find_element_by_* commands are deprecated. Please use find_element() instead\n",
      "  driver.find_element_by_class_name('css-38hacf').click()\n",
      "C:\\Users\\BoraBestz\\AppData\\Local\\Temp\\ipykernel_4192\\3814315525.py:10: DeprecationWarning: find_element_by_* commands are deprecated. Please use find_element() instead\n",
      "  findPrice = driver.find_element_by_xpath('//*[@id=\"dieselReactWrapper\"]/div/div[4]/main/div[2]/div/div/div/div[2]/div/div/aside/div/div/div[3]/div/div/span/div/span').text\n"
     ]
    },
    {
     "name": "stdout",
     "output_type": "stream",
     "text": [
      "(22, 13, 'https://www.gamivo.com/product/god-of-war-steam')\n",
      "37.99\n",
      "(49, 8, 'https://www.gamesrig.com/en/all-products/dying-light-2-steam-key')\n",
      "(49, 9, 'https://www.hrkgame.com/en/games/product/dying-light-2-stay-human-global')\n",
      "(49, 10, 'https://www.kinguin.net/category/109526/dying-light-2-steam-cd-key')\n"
     ]
    },
    {
     "ename": "UnboundLocalError",
     "evalue": "local variable 'beforePrice' referenced before assignment",
     "output_type": "error",
     "traceback": [
      "\u001b[1;31m---------------------------------------------------------------------------\u001b[0m",
      "\u001b[1;31mUnboundLocalError\u001b[0m                         Traceback (most recent call last)",
      "\u001b[1;32md:\\GitHub\\GameThuk\\WebScrapping\\WebScrapping.ipynb Cell 24'\u001b[0m in \u001b[0;36m<module>\u001b[1;34m\u001b[0m\n\u001b[0;32m     <a href='vscode-notebook-cell:/d%3A/GitHub/GameThuk/WebScrapping/WebScrapping.ipynb#ch0000025?line=18'>19</a>\u001b[0m     gameId \u001b[39m=\u001b[39m i[\u001b[39m0\u001b[39m]\n\u001b[0;32m     <a href='vscode-notebook-cell:/d%3A/GitHub/GameThuk/WebScrapping/WebScrapping.ipynb#ch0000025?line=19'>20</a>\u001b[0m     marketId \u001b[39m=\u001b[39m i[\u001b[39m1\u001b[39m]\n\u001b[1;32m---> <a href='vscode-notebook-cell:/d%3A/GitHub/GameThuk/WebScrapping/WebScrapping.ipynb#ch0000025?line=20'>21</a>\u001b[0m     market_10(url, gameId, marketId)\n\u001b[0;32m     <a href='vscode-notebook-cell:/d%3A/GitHub/GameThuk/WebScrapping/WebScrapping.ipynb#ch0000025?line=21'>22</a>\u001b[0m \u001b[39melif\u001b[39;00m i[\u001b[39m1\u001b[39m] \u001b[39m==\u001b[39m \u001b[39m11\u001b[39m:\n\u001b[0;32m     <a href='vscode-notebook-cell:/d%3A/GitHub/GameThuk/WebScrapping/WebScrapping.ipynb#ch0000025?line=22'>23</a>\u001b[0m     url \u001b[39m=\u001b[39m i[\u001b[39m2\u001b[39m]\n",
      "\u001b[1;32md:\\GitHub\\GameThuk\\WebScrapping\\WebScrapping.ipynb Cell 17'\u001b[0m in \u001b[0;36mmarket_10\u001b[1;34m(url, gameId, marketId)\u001b[0m\n\u001b[0;32m      <a href='vscode-notebook-cell:/d%3A/GitHub/GameThuk/WebScrapping/WebScrapping.ipynb#ch0000016?line=5'>6</a>\u001b[0m \u001b[39mexcept\u001b[39;00m:\n\u001b[0;32m      <a href='vscode-notebook-cell:/d%3A/GitHub/GameThuk/WebScrapping/WebScrapping.ipynb#ch0000016?line=6'>7</a>\u001b[0m     lastPrice \u001b[39m=\u001b[39m \u001b[39mfloat\u001b[39m(\u001b[39m0\u001b[39m)\n\u001b[1;32m----> <a href='vscode-notebook-cell:/d%3A/GitHub/GameThuk/WebScrapping/WebScrapping.ipynb#ch0000016?line=7'>8</a>\u001b[0m lastPrice \u001b[39m=\u001b[39m \u001b[39mround\u001b[39m(convertEur(beforePrice),\u001b[39m2\u001b[39m)\n\u001b[0;32m      <a href='vscode-notebook-cell:/d%3A/GitHub/GameThuk/WebScrapping/WebScrapping.ipynb#ch0000016?line=8'>9</a>\u001b[0m lastPrice \u001b[39m=\u001b[39m \u001b[39mstr\u001b[39m(lastPrice)\n\u001b[0;32m     <a href='vscode-notebook-cell:/d%3A/GitHub/GameThuk/WebScrapping/WebScrapping.ipynb#ch0000016?line=9'>10</a>\u001b[0m beforePrice \u001b[39m=\u001b[39m \u001b[39mstr\u001b[39m(beforePrice)\n",
      "\u001b[1;31mUnboundLocalError\u001b[0m: local variable 'beforePrice' referenced before assignment"
     ]
    }
   ],
   "source": [
    "cursor = mydb.cursor()\n",
    "cursor.execute(\"SELECT game_id, market_id, market_url  FROM price_check\")\n",
    "myresult = cursor.fetchall()\n",
    "checkEpicgames = 0\n",
    "for i in myresult:\n",
    "        print(i)\n",
    "        if i[1] == 8:\n",
    "            url = i[2]\n",
    "            gameId = i[0]\n",
    "            marketId = i[1]\n",
    "            market_8(url, gameId, marketId)\n",
    "        elif i[1] == 9:\n",
    "            url = i[2]\n",
    "            gameId = i[0]\n",
    "            marketId = i[1]\n",
    "            market_9(url, gameId, marketId)\n",
    "        elif i[1] == 10:\n",
    "            url = i[2]\n",
    "            gameId = i[0]\n",
    "            marketId = i[1]\n",
    "            market_10(url, gameId, marketId)\n",
    "        elif i[1] == 11:\n",
    "            url = i[2]\n",
    "            gameId = i[0]\n",
    "            marketId = i[1]\n",
    "            market_11(url, gameId, marketId)\n",
    "        elif i[1] ==  12:\n",
    "            url = i[2]\n",
    "            gameId = i[0]\n",
    "            marketId = i[1]\n",
    "            market_12(url, gameId, marketId, checkEpicgames)\n",
    "            checkEpicgames += 1\n",
    "        elif i[1] ==  13:\n",
    "            url = i[2]\n",
    "            gameId = i[0]\n",
    "            marketId = i[1]\n",
    "            market_13(url, gameId, marketId)\n",
    "mydb.commit()\n"
   ]
  },
  {
   "cell_type": "code",
   "execution_count": null,
   "metadata": {},
   "outputs": [],
   "source": [
    "mydb.close()"
   ]
  }
 ],
 "metadata": {
  "interpreter": {
   "hash": "910edb50372dc9a25991328a18fa75a46b7964d1851dcbc02286ffb8cac427e1"
  },
  "kernelspec": {
   "display_name": "Python 3.9.10 64-bit (windows store)",
   "language": "python",
   "name": "python3"
  },
  "language_info": {
   "codemirror_mode": {
    "name": "ipython",
    "version": 3
   },
   "file_extension": ".py",
   "mimetype": "text/x-python",
   "name": "python",
   "nbconvert_exporter": "python",
   "pygments_lexer": "ipython3",
   "version": "3.9.10"
  },
  "orig_nbformat": 4
 },
 "nbformat": 4,
 "nbformat_minor": 2
}
